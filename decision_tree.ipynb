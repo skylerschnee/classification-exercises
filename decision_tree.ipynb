{
 "cells": [
  {
   "cell_type": "markdown",
   "id": "4a1a5890",
   "metadata": {},
   "source": [
    "#### Using the titanic data, in your classification-exercises repository, create a notebook, decision_tree.ipynb where you will do the following:"
   ]
  },
  {
   "cell_type": "code",
   "execution_count": 167,
   "id": "14843c84",
   "metadata": {},
   "outputs": [],
   "source": [
    "import numpy as np\n",
    "import pandas as pd\n",
    "import matplotlib.pyplot as plt\n",
    "import seaborn as sns\n",
    "from sklearn.tree import DecisionTreeClassifier, export_text, plot_tree\n",
    "import sklearn.metrics\n",
    "from sklearn.model_selection import train_test_split\n",
    "import acquire as aq\n",
    "import prepare"
   ]
  },
  {
   "cell_type": "code",
   "execution_count": 168,
   "id": "5e6b1bd7",
   "metadata": {},
   "outputs": [],
   "source": [
    "df = aq.get_titanic_data()"
   ]
  },
  {
   "cell_type": "code",
   "execution_count": 169,
   "id": "25809b42",
   "metadata": {},
   "outputs": [
    {
     "data": {
      "text/html": [
       "<div>\n",
       "<style scoped>\n",
       "    .dataframe tbody tr th:only-of-type {\n",
       "        vertical-align: middle;\n",
       "    }\n",
       "\n",
       "    .dataframe tbody tr th {\n",
       "        vertical-align: top;\n",
       "    }\n",
       "\n",
       "    .dataframe thead th {\n",
       "        text-align: right;\n",
       "    }\n",
       "</style>\n",
       "<table border=\"1\" class=\"dataframe\">\n",
       "  <thead>\n",
       "    <tr style=\"text-align: right;\">\n",
       "      <th></th>\n",
       "      <th>survived</th>\n",
       "      <th>pclass</th>\n",
       "      <th>sex</th>\n",
       "      <th>age</th>\n",
       "      <th>sibsp</th>\n",
       "      <th>parch</th>\n",
       "      <th>fare</th>\n",
       "      <th>embarked</th>\n",
       "      <th>embark_town</th>\n",
       "      <th>alone</th>\n",
       "      <th>sex_male</th>\n",
       "      <th>embark_town_Queenstown</th>\n",
       "      <th>embark_town_Southampton</th>\n",
       "    </tr>\n",
       "  </thead>\n",
       "  <tbody>\n",
       "    <tr>\n",
       "      <th>0</th>\n",
       "      <td>0</td>\n",
       "      <td>3</td>\n",
       "      <td>male</td>\n",
       "      <td>22.0</td>\n",
       "      <td>1</td>\n",
       "      <td>0</td>\n",
       "      <td>7.2500</td>\n",
       "      <td>S</td>\n",
       "      <td>Southampton</td>\n",
       "      <td>0</td>\n",
       "      <td>1</td>\n",
       "      <td>0</td>\n",
       "      <td>1</td>\n",
       "    </tr>\n",
       "    <tr>\n",
       "      <th>1</th>\n",
       "      <td>1</td>\n",
       "      <td>1</td>\n",
       "      <td>female</td>\n",
       "      <td>38.0</td>\n",
       "      <td>1</td>\n",
       "      <td>0</td>\n",
       "      <td>71.2833</td>\n",
       "      <td>C</td>\n",
       "      <td>Cherbourg</td>\n",
       "      <td>0</td>\n",
       "      <td>0</td>\n",
       "      <td>0</td>\n",
       "      <td>0</td>\n",
       "    </tr>\n",
       "    <tr>\n",
       "      <th>2</th>\n",
       "      <td>1</td>\n",
       "      <td>3</td>\n",
       "      <td>female</td>\n",
       "      <td>26.0</td>\n",
       "      <td>0</td>\n",
       "      <td>0</td>\n",
       "      <td>7.9250</td>\n",
       "      <td>S</td>\n",
       "      <td>Southampton</td>\n",
       "      <td>1</td>\n",
       "      <td>0</td>\n",
       "      <td>0</td>\n",
       "      <td>1</td>\n",
       "    </tr>\n",
       "    <tr>\n",
       "      <th>3</th>\n",
       "      <td>1</td>\n",
       "      <td>1</td>\n",
       "      <td>female</td>\n",
       "      <td>35.0</td>\n",
       "      <td>1</td>\n",
       "      <td>0</td>\n",
       "      <td>53.1000</td>\n",
       "      <td>S</td>\n",
       "      <td>Southampton</td>\n",
       "      <td>0</td>\n",
       "      <td>0</td>\n",
       "      <td>0</td>\n",
       "      <td>1</td>\n",
       "    </tr>\n",
       "    <tr>\n",
       "      <th>4</th>\n",
       "      <td>0</td>\n",
       "      <td>3</td>\n",
       "      <td>male</td>\n",
       "      <td>35.0</td>\n",
       "      <td>0</td>\n",
       "      <td>0</td>\n",
       "      <td>8.0500</td>\n",
       "      <td>S</td>\n",
       "      <td>Southampton</td>\n",
       "      <td>1</td>\n",
       "      <td>1</td>\n",
       "      <td>0</td>\n",
       "      <td>1</td>\n",
       "    </tr>\n",
       "  </tbody>\n",
       "</table>\n",
       "</div>"
      ],
      "text/plain": [
       "   survived  pclass     sex   age  sibsp  parch     fare embarked  \\\n",
       "0         0       3    male  22.0      1      0   7.2500        S   \n",
       "1         1       1  female  38.0      1      0  71.2833        C   \n",
       "2         1       3  female  26.0      0      0   7.9250        S   \n",
       "3         1       1  female  35.0      1      0  53.1000        S   \n",
       "4         0       3    male  35.0      0      0   8.0500        S   \n",
       "\n",
       "   embark_town  alone  sex_male  embark_town_Queenstown  \\\n",
       "0  Southampton      0         1                       0   \n",
       "1    Cherbourg      0         0                       0   \n",
       "2  Southampton      1         0                       0   \n",
       "3  Southampton      0         0                       0   \n",
       "4  Southampton      1         1                       0   \n",
       "\n",
       "   embark_town_Southampton  \n",
       "0                        1  \n",
       "1                        0  \n",
       "2                        1  \n",
       "3                        1  \n",
       "4                        1  "
      ]
     },
     "execution_count": 169,
     "metadata": {},
     "output_type": "execute_result"
    }
   ],
   "source": [
    "df = prepare.prep_titanic(df)\n",
    "df.head()"
   ]
  },
  {
   "cell_type": "markdown",
   "id": "304d9866",
   "metadata": {},
   "source": [
    "What is your baseline prediction? What is your baseline accuracy? remember: your baseline prediction for a classification problem is predicting the most prevelant class in the training dataset (the mode). When you make those predictions, what is your accuracy? This is your baseline accuracy."
   ]
  },
  {
   "cell_type": "code",
   "execution_count": 170,
   "id": "e71102c5",
   "metadata": {},
   "outputs": [
    {
     "data": {
      "text/plain": [
       "0    549\n",
       "1    342\n",
       "Name: survived, dtype: int64"
      ]
     },
     "execution_count": 170,
     "metadata": {},
     "output_type": "execute_result"
    }
   ],
   "source": [
    "df.survived.value_counts()"
   ]
  },
  {
   "cell_type": "code",
   "execution_count": 171,
   "id": "2c0ca1c8",
   "metadata": {},
   "outputs": [],
   "source": [
    "df['bl_survival_pred'] = 0"
   ]
  },
  {
   "cell_type": "code",
   "execution_count": 172,
   "id": "a46f1877",
   "metadata": {},
   "outputs": [
    {
     "data": {
      "text/plain": [
       "0.6161616161616161"
      ]
     },
     "execution_count": 172,
     "metadata": {},
     "output_type": "execute_result"
    }
   ],
   "source": [
    "(df.survived == df.bl_survival_pred).mean()"
   ]
  },
  {
   "cell_type": "markdown",
   "id": "68c70f89",
   "metadata": {},
   "source": [
    "BL prediction: survived = 0\n",
    "BL accuracy: .62"
   ]
  },
  {
   "cell_type": "code",
   "execution_count": 128,
   "id": "c4aaa6be",
   "metadata": {},
   "outputs": [],
   "source": [
    "train_val, test = train_test_split(\n",
    "    df,\n",
    "    train_size = 0.8,\n",
    "    random_state = 1349,\n",
    "    stratify = df['survived']\n",
    ")\n",
    "\n",
    "train, validate = train_test_split(\n",
    "    train_val,\n",
    "    train_size = 0.7,\n",
    "    random_state = 1349,\n",
    "    stratify = train_val['survived']\n",
    ")"
   ]
  },
  {
   "cell_type": "code",
   "execution_count": 129,
   "id": "14ef971c",
   "metadata": {},
   "outputs": [
    {
     "data": {
      "text/plain": [
       "((498, 14), (214, 14), (179, 14))"
      ]
     },
     "execution_count": 129,
     "metadata": {},
     "output_type": "execute_result"
    }
   ],
   "source": [
    "train.shape, validate.shape, test.shape"
   ]
  },
  {
   "cell_type": "code",
   "execution_count": 173,
   "id": "5b209d63",
   "metadata": {},
   "outputs": [
    {
     "data": {
      "text/plain": [
       "0.6164658634538153"
      ]
     },
     "execution_count": 173,
     "metadata": {},
     "output_type": "execute_result"
    }
   ],
   "source": [
    "baseline_accuracy = (train.survived == train.bl_survival_pred).mean()\n",
    "baseline_accuracy"
   ]
  },
  {
   "cell_type": "markdown",
   "id": "caf423e8",
   "metadata": {},
   "source": [
    "Fit the decision tree classifier to your training sample and transform (i.e. make predictions on the training sample)"
   ]
  },
  {
   "cell_type": "code",
   "execution_count": 130,
   "id": "73c84755",
   "metadata": {},
   "outputs": [],
   "source": [
    "x_cols = train.columns.to_list()\n",
    "y_cols = 'survived'"
   ]
  },
  {
   "cell_type": "code",
   "execution_count": 131,
   "id": "0ec5d161",
   "metadata": {},
   "outputs": [],
   "source": [
    "x_cols.remove('survived')\n",
    "x_cols.remove('bl_survival_pred')\n",
    "x_cols.remove('sex')\n",
    "x_cols.remove('embarked')\n",
    "x_cols.remove('embark_town')"
   ]
  },
  {
   "cell_type": "code",
   "execution_count": 132,
   "id": "6d882a7b",
   "metadata": {},
   "outputs": [
    {
     "data": {
      "text/plain": [
       "['pclass',\n",
       " 'age',\n",
       " 'sibsp',\n",
       " 'parch',\n",
       " 'fare',\n",
       " 'alone',\n",
       " 'sex_male',\n",
       " 'embark_town_Queenstown',\n",
       " 'embark_town_Southampton']"
      ]
     },
     "execution_count": 132,
     "metadata": {},
     "output_type": "execute_result"
    }
   ],
   "source": [
    "x_cols"
   ]
  },
  {
   "cell_type": "code",
   "execution_count": 133,
   "id": "bb6a7cab",
   "metadata": {},
   "outputs": [],
   "source": [
    "# make the thing\n",
    "clf1 = DecisionTreeClassifier()\n",
    "\n",
    "# fitting the thing\n",
    "clf1.fit(train[x_cols], train[y_cols])\n",
    "\n",
    "# use the thing\n",
    "model_1_preds = clf1.predict(train[x_cols])"
   ]
  },
  {
   "cell_type": "code",
   "execution_count": 134,
   "id": "12592884",
   "metadata": {},
   "outputs": [
    {
     "data": {
      "text/plain": [
       "array([0, 1, 1, 0, 0, 0, 0, 1, 0, 0, 0, 0, 1, 0, 1, 0, 0, 0, 0, 1, 0, 1,\n",
       "       1, 1, 0, 1, 0, 0, 1, 0, 0, 0, 0, 0, 0, 0, 0, 1, 0, 1, 1, 1, 0, 0,\n",
       "       0, 0, 0, 1, 1, 0, 0, 1, 0, 1, 1, 1, 0, 0, 0, 0, 0, 0, 0, 0, 1, 1,\n",
       "       0, 0, 0, 1, 1, 1, 0, 1, 0, 0, 0, 0, 1, 0, 0, 1, 1, 0, 0, 1, 0, 1,\n",
       "       0, 1, 1, 1, 1, 0, 0, 0, 1, 0, 0, 1, 1, 0, 1, 0, 0, 0, 0, 0, 0, 0,\n",
       "       0, 1, 1, 1, 0, 0, 0, 0, 0, 1, 0, 1, 0, 1, 0, 1, 0, 0, 1, 0, 1, 1,\n",
       "       0, 1, 0, 0, 1, 1, 0, 1, 1, 1, 0, 0, 1, 0, 1, 0, 0, 0, 1, 1, 1, 0,\n",
       "       0, 0, 0, 0, 0, 0, 1, 0, 0, 0, 1, 1, 0, 0, 1, 0, 1, 1, 1, 1, 0, 1,\n",
       "       0, 1, 1, 0, 0, 1, 0, 1, 1, 1, 0, 0, 1, 1, 0, 0, 0, 0, 0, 0, 0, 1,\n",
       "       0, 1, 0, 1, 1, 0, 0, 0, 1, 0, 1, 0, 1, 0, 0, 0, 0, 1, 1, 0, 1, 1,\n",
       "       1, 0, 0, 1, 1, 1, 0, 0, 1, 1, 1, 0, 0, 0, 0, 0, 0, 0, 1, 0, 0, 0,\n",
       "       0, 0, 1, 0, 1, 0, 0, 0, 0, 0, 0, 0, 1, 1, 1, 0, 0, 1, 1, 0, 0, 0,\n",
       "       1, 0, 0, 1, 0, 0, 1, 1, 0, 1, 0, 0, 1, 0, 0, 1, 0, 1, 0, 0, 0, 0,\n",
       "       0, 1, 0, 1, 0, 0, 0, 1, 1, 0, 0, 1, 1, 0, 0, 0, 0, 0, 0, 1, 0, 1,\n",
       "       0, 0, 0, 0, 0, 0, 1, 1, 1, 0, 1, 1, 0, 0, 0, 1, 0, 1, 0, 0, 1, 1,\n",
       "       1, 1, 0, 1, 0, 0, 0, 1, 0, 0, 0, 0, 1, 1, 0, 0, 0, 1, 0, 0, 0, 0,\n",
       "       0, 1, 0, 1, 0, 0, 1, 1, 0, 0, 1, 0, 0, 0, 1, 0, 0, 0, 0, 0, 1, 0,\n",
       "       1, 1, 0, 1, 1, 1, 0, 1, 0, 0, 0, 0, 0, 1, 0, 0, 1, 0, 0, 1, 0, 0,\n",
       "       0, 0, 0, 0, 1, 1, 0, 0, 0, 0, 0, 1, 0, 1, 1, 0, 0, 1, 0, 0, 0, 0,\n",
       "       1, 0, 1, 0, 1, 1, 0, 1, 1, 1, 0, 0, 1, 0, 0, 0, 1, 0, 0, 0, 0, 0,\n",
       "       0, 1, 0, 0, 0, 1, 1, 0, 0, 0, 1, 1, 0, 0, 0, 0, 0, 1, 1, 0, 0, 1,\n",
       "       0, 0, 0, 0, 1, 0, 1, 1, 0, 0, 0, 0, 0, 0, 1, 0, 0, 1, 0, 1, 0, 0,\n",
       "       0, 1, 0, 0, 1, 0, 1, 1, 0, 0, 0, 0, 0, 0])"
      ]
     },
     "execution_count": 134,
     "metadata": {},
     "output_type": "execute_result"
    }
   ],
   "source": [
    "model_1_preds"
   ]
  },
  {
   "cell_type": "markdown",
   "id": "a2e7b50d",
   "metadata": {},
   "source": [
    "Evaluate your in-sample results using the model score, confusion matrix, and classification report."
   ]
  },
  {
   "cell_type": "code",
   "execution_count": 135,
   "id": "31acbb85",
   "metadata": {},
   "outputs": [
    {
     "name": "stdout",
     "output_type": "stream",
     "text": [
      "------------------model score-----------------------\n",
      "0.9839357429718876\n",
      "----------------confusion matrix---------------------\n",
      "[[306   1]\n",
      " [  7 184]]\n",
      "--------------classification report-------------------\n",
      "              precision    recall  f1-score   support\n",
      "\n",
      "           0       0.98      1.00      0.99       307\n",
      "           1       0.99      0.96      0.98       191\n",
      "\n",
      "    accuracy                           0.98       498\n",
      "   macro avg       0.99      0.98      0.98       498\n",
      "weighted avg       0.98      0.98      0.98       498\n",
      "\n"
     ]
    }
   ],
   "source": [
    "print('------------------model score-----------------------')\n",
    "print(clf1.score(train[x_cols], train[y_cols]))\n",
    "print('----------------confusion matrix---------------------')\n",
    "print(confusion_matrix(train[y_cols], model_1_preds))\n",
    "print('--------------classification report-------------------')\n",
    "print(classification_report(train[y_cols], model_1_preds))"
   ]
  },
  {
   "cell_type": "markdown",
   "id": "20efafde",
   "metadata": {},
   "source": [
    "Compute: Accuracy, true positive rate, false positive rate, true negative rate, false negative rate, precision, recall, f1-score, and support."
   ]
  },
  {
   "cell_type": "code",
   "execution_count": 136,
   "id": "5b5edaa7",
   "metadata": {},
   "outputs": [
    {
     "name": "stdout",
     "output_type": "stream",
     "text": [
      "0.9839357429718876\n"
     ]
    }
   ],
   "source": [
    "print(accuracy_score(train[y_cols], model_1_preds))"
   ]
  },
  {
   "cell_type": "code",
   "execution_count": 137,
   "id": "d395ab97",
   "metadata": {},
   "outputs": [],
   "source": [
    "cm = confusion_matrix(train[y_cols], model_1_preds)"
   ]
  },
  {
   "cell_type": "code",
   "execution_count": 138,
   "id": "d8d05f53",
   "metadata": {},
   "outputs": [],
   "source": [
    "TP = cm[0][0]\n",
    "FN = cm[0][1]\n",
    "FP = cm[1][0]\n",
    "TN = cm[1][1]"
   ]
  },
  {
   "cell_type": "code",
   "execution_count": 140,
   "id": "1f367d7e",
   "metadata": {},
   "outputs": [
    {
     "name": "stdout",
     "output_type": "stream",
     "text": [
      "The TP rate is 306\n",
      "The FP rate is 7\n",
      "The TN rate is 184\n",
      "The FN rate is 1\n"
     ]
    }
   ],
   "source": [
    "print(f'The TP rate is {TP}')\n",
    "print(f'The FP rate is {FP}') \n",
    "print(f'The TN rate is {TN}')\n",
    "print(f'The FN rate is {FN}')"
   ]
  },
  {
   "cell_type": "code",
   "execution_count": 141,
   "id": "3ec75080",
   "metadata": {},
   "outputs": [
    {
     "name": "stdout",
     "output_type": "stream",
     "text": [
      "(0.9945945945945946, 0.9633507853403142, 0.9787234042553191, None)\n"
     ]
    }
   ],
   "source": [
    "print(sklearn.metrics.precision_recall_fscore_support(train[y_cols], model_1_preds, average='binary'))"
   ]
  },
  {
   "cell_type": "markdown",
   "id": "680877e9",
   "metadata": {},
   "source": [
    "Run through steps 2-4 using a different max_depth value."
   ]
  },
  {
   "cell_type": "code",
   "execution_count": 151,
   "id": "2c8a7e22",
   "metadata": {},
   "outputs": [],
   "source": [
    "# make the thing\n",
    "clf2 = DecisionTreeClassifier(max_depth = 2)\n",
    "\n",
    "# fitting the thing\n",
    "clf2.fit(train[x_cols], train[y_cols])\n",
    "\n",
    "# use the thing\n",
    "model_2_preds = clf2.predict(train[x_cols])"
   ]
  },
  {
   "cell_type": "code",
   "execution_count": 152,
   "id": "daeef0e4",
   "metadata": {},
   "outputs": [
    {
     "name": "stdout",
     "output_type": "stream",
     "text": [
      "------------------model score-----------------------\n",
      "0.8012048192771084\n",
      "----------------confusion matrix---------------------\n",
      "[[304   3]\n",
      " [ 96  95]]\n",
      "--------------classification report-------------------\n",
      "              precision    recall  f1-score   support\n",
      "\n",
      "           0       0.76      0.99      0.86       307\n",
      "           1       0.97      0.50      0.66       191\n",
      "\n",
      "    accuracy                           0.80       498\n",
      "   macro avg       0.86      0.74      0.76       498\n",
      "weighted avg       0.84      0.80      0.78       498\n",
      "\n"
     ]
    }
   ],
   "source": [
    "print('------------------model score-----------------------')\n",
    "print(clf2.score(train[x_cols], train[y_cols]))\n",
    "print('----------------confusion matrix---------------------')\n",
    "print(confusion_matrix(train[y_cols], model_2_preds))\n",
    "print('--------------classification report-------------------')\n",
    "print(classification_report(train[y_cols], model_2_preds))"
   ]
  },
  {
   "cell_type": "code",
   "execution_count": 153,
   "id": "39f649a3",
   "metadata": {},
   "outputs": [
    {
     "name": "stdout",
     "output_type": "stream",
     "text": [
      "0.8012048192771084\n"
     ]
    }
   ],
   "source": [
    "print(accuracy_score(train[y_cols], model_2_preds))"
   ]
  },
  {
   "cell_type": "code",
   "execution_count": 154,
   "id": "0bec26af",
   "metadata": {},
   "outputs": [],
   "source": [
    "cm2 = confusion_matrix(train[y_cols], model_2_preds)"
   ]
  },
  {
   "cell_type": "code",
   "execution_count": 155,
   "id": "64ddc99c",
   "metadata": {},
   "outputs": [],
   "source": [
    "TP2 = cm2[0][0]\n",
    "FN2 = cm2[0][1]\n",
    "FP2 = cm2[1][0]\n",
    "TN2 = cm2[1][1]"
   ]
  },
  {
   "cell_type": "code",
   "execution_count": 156,
   "id": "83e1b4c6",
   "metadata": {},
   "outputs": [
    {
     "name": "stdout",
     "output_type": "stream",
     "text": [
      "The model 2 TP rate is 304\n",
      "The model 2 FP rate is 96\n",
      "The model 2 TN rate is 95\n",
      "The model 2 FN rate is 3\n"
     ]
    }
   ],
   "source": [
    "print(f'The model 2 TP rate is {TP2}')\n",
    "print(f'The model 2 FP rate is {FP2}') \n",
    "print(f'The model 2 TN rate is {TN2}')\n",
    "print(f'The model 2 FN rate is {FN2}')"
   ]
  },
  {
   "cell_type": "code",
   "execution_count": 157,
   "id": "4b478d1f",
   "metadata": {},
   "outputs": [
    {
     "name": "stdout",
     "output_type": "stream",
     "text": [
      "(0.9693877551020408, 0.4973821989528796, 0.657439446366782, None)\n"
     ]
    }
   ],
   "source": [
    "print(sklearn.metrics.precision_recall_fscore_support(train[y_cols], model_2_preds, average='binary'))"
   ]
  },
  {
   "cell_type": "markdown",
   "id": "c4d35ccc",
   "metadata": {},
   "source": [
    "Which model performs better on your in-sample data?"
   ]
  },
  {
   "cell_type": "markdown",
   "id": "e3d75e79",
   "metadata": {},
   "source": [
    "Model 1, 0.98 vs. .80 model score"
   ]
  },
  {
   "cell_type": "markdown",
   "id": "8b15384d",
   "metadata": {},
   "source": [
    "Which model performs best on your out-of-sample data, the validate set?"
   ]
  },
  {
   "cell_type": "code",
   "execution_count": 161,
   "id": "89b93d15",
   "metadata": {},
   "outputs": [
    {
     "name": "stdout",
     "output_type": "stream",
     "text": [
      "Accuracy of Model 1 on validate set: 0.73\n"
     ]
    }
   ],
   "source": [
    "print('Accuracy of Model 1 on validate set: {:.2f}'\n",
    "     .format(clf1.score(validate[x_cols], validate[y_cols])))"
   ]
  },
  {
   "cell_type": "code",
   "execution_count": 162,
   "id": "1e5a604e",
   "metadata": {},
   "outputs": [
    {
     "name": "stdout",
     "output_type": "stream",
     "text": [
      "Accuracy of Model 2 on validate set: 0.76\n"
     ]
    }
   ],
   "source": [
    "print('Accuracy of Model 2 on validate set: {:.2f}'\n",
    "     .format(clf2.score(validate[x_cols], validate[y_cols])))"
   ]
  },
  {
   "cell_type": "code",
   "execution_count": 166,
   "id": "c90c1c7f",
   "metadata": {},
   "outputs": [
    {
     "name": "stdout",
     "output_type": "stream",
     "text": [
      "--------------model 1 classification report-------------------\n",
      "              precision    recall  f1-score   support\n",
      "\n",
      "           0       0.79      0.76      0.78       132\n",
      "           1       0.64      0.68      0.66        82\n",
      "\n",
      "    accuracy                           0.73       214\n",
      "   macro avg       0.72      0.72      0.72       214\n",
      "weighted avg       0.73      0.73      0.73       214\n",
      "\n",
      "--------------model 2 classification report-------------------\n",
      "              precision    recall  f1-score   support\n",
      "\n",
      "           0       0.79      0.76      0.78       132\n",
      "           1       0.64      0.68      0.66        82\n",
      "\n",
      "    accuracy                           0.73       214\n",
      "   macro avg       0.72      0.72      0.72       214\n",
      "weighted avg       0.73      0.73      0.73       214\n",
      "\n"
     ]
    }
   ],
   "source": [
    "# And since accuracy isn't everything\n",
    "\n",
    "# Produce y_predictions that come from the validate[x_cols]\n",
    "y_pred1 = clf1.predict(validate[x_cols])\n",
    "y_pred2 = clf1.predict(validate[x_cols])\n",
    "\n",
    "# Compare actual y values (from validate) to predicted y_values from the model run on X_validate\n",
    "print('--------------model 1 classification report-------------------')\n",
    "print(classification_report(validate[y_cols], y_pred1))\n",
    "print('--------------model 2 classification report-------------------')\n",
    "print(classification_report(validate[y_cols], y_pred2))"
   ]
  },
  {
   "cell_type": "markdown",
   "id": "feb2aae7",
   "metadata": {},
   "source": [
    "Work through these same exercises using the Telco dataset.\n",
    "Experiment with this model on other datasets with a higher number of output classes."
   ]
  },
  {
   "cell_type": "code",
   "execution_count": null,
   "id": "1163f466",
   "metadata": {},
   "outputs": [],
   "source": []
  }
 ],
 "metadata": {
  "kernelspec": {
   "display_name": "Python 3 (ipykernel)",
   "language": "python",
   "name": "python3"
  },
  "language_info": {
   "codemirror_mode": {
    "name": "ipython",
    "version": 3
   },
   "file_extension": ".py",
   "mimetype": "text/x-python",
   "name": "python",
   "nbconvert_exporter": "python",
   "pygments_lexer": "ipython3",
   "version": "3.9.13"
  }
 },
 "nbformat": 4,
 "nbformat_minor": 5
}
