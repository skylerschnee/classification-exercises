{
 "cells": [
  {
   "cell_type": "markdown",
   "id": "584bdfb9",
   "metadata": {},
   "source": [
    "### Create a new notebook, random_forests, and work with titanic data to do the following:"
   ]
  },
  {
   "cell_type": "code",
   "execution_count": 21,
   "id": "6fed323f",
   "metadata": {},
   "outputs": [],
   "source": [
    "import numpy as np\n",
    "import pandas as pd\n",
    "import matplotlib.pyplot as plt\n",
    "import seaborn as sns\n",
    "from sklearn.model_selection import train_test_split\n",
    "from sklearn.ensemble import RandomForestClassifier\n",
    "import sklearn.metrics\n",
    "import acquire as aq\n",
    "import prepare"
   ]
  },
  {
   "cell_type": "code",
   "execution_count": 2,
   "id": "46c070d4",
   "metadata": {},
   "outputs": [],
   "source": [
    "df = aq.get_titanic_data()"
   ]
  },
  {
   "cell_type": "code",
   "execution_count": 3,
   "id": "de574a65",
   "metadata": {},
   "outputs": [
    {
     "data": {
      "text/html": [
       "<div>\n",
       "<style scoped>\n",
       "    .dataframe tbody tr th:only-of-type {\n",
       "        vertical-align: middle;\n",
       "    }\n",
       "\n",
       "    .dataframe tbody tr th {\n",
       "        vertical-align: top;\n",
       "    }\n",
       "\n",
       "    .dataframe thead th {\n",
       "        text-align: right;\n",
       "    }\n",
       "</style>\n",
       "<table border=\"1\" class=\"dataframe\">\n",
       "  <thead>\n",
       "    <tr style=\"text-align: right;\">\n",
       "      <th></th>\n",
       "      <th>survived</th>\n",
       "      <th>pclass</th>\n",
       "      <th>sex</th>\n",
       "      <th>age</th>\n",
       "      <th>sibsp</th>\n",
       "      <th>parch</th>\n",
       "      <th>fare</th>\n",
       "      <th>embarked</th>\n",
       "      <th>embark_town</th>\n",
       "      <th>alone</th>\n",
       "      <th>sex_male</th>\n",
       "      <th>embark_town_Queenstown</th>\n",
       "      <th>embark_town_Southampton</th>\n",
       "    </tr>\n",
       "  </thead>\n",
       "  <tbody>\n",
       "    <tr>\n",
       "      <th>0</th>\n",
       "      <td>0</td>\n",
       "      <td>3</td>\n",
       "      <td>male</td>\n",
       "      <td>22.0</td>\n",
       "      <td>1</td>\n",
       "      <td>0</td>\n",
       "      <td>7.2500</td>\n",
       "      <td>S</td>\n",
       "      <td>Southampton</td>\n",
       "      <td>0</td>\n",
       "      <td>1</td>\n",
       "      <td>0</td>\n",
       "      <td>1</td>\n",
       "    </tr>\n",
       "    <tr>\n",
       "      <th>1</th>\n",
       "      <td>1</td>\n",
       "      <td>1</td>\n",
       "      <td>female</td>\n",
       "      <td>38.0</td>\n",
       "      <td>1</td>\n",
       "      <td>0</td>\n",
       "      <td>71.2833</td>\n",
       "      <td>C</td>\n",
       "      <td>Cherbourg</td>\n",
       "      <td>0</td>\n",
       "      <td>0</td>\n",
       "      <td>0</td>\n",
       "      <td>0</td>\n",
       "    </tr>\n",
       "    <tr>\n",
       "      <th>2</th>\n",
       "      <td>1</td>\n",
       "      <td>3</td>\n",
       "      <td>female</td>\n",
       "      <td>26.0</td>\n",
       "      <td>0</td>\n",
       "      <td>0</td>\n",
       "      <td>7.9250</td>\n",
       "      <td>S</td>\n",
       "      <td>Southampton</td>\n",
       "      <td>1</td>\n",
       "      <td>0</td>\n",
       "      <td>0</td>\n",
       "      <td>1</td>\n",
       "    </tr>\n",
       "    <tr>\n",
       "      <th>3</th>\n",
       "      <td>1</td>\n",
       "      <td>1</td>\n",
       "      <td>female</td>\n",
       "      <td>35.0</td>\n",
       "      <td>1</td>\n",
       "      <td>0</td>\n",
       "      <td>53.1000</td>\n",
       "      <td>S</td>\n",
       "      <td>Southampton</td>\n",
       "      <td>0</td>\n",
       "      <td>0</td>\n",
       "      <td>0</td>\n",
       "      <td>1</td>\n",
       "    </tr>\n",
       "    <tr>\n",
       "      <th>4</th>\n",
       "      <td>0</td>\n",
       "      <td>3</td>\n",
       "      <td>male</td>\n",
       "      <td>35.0</td>\n",
       "      <td>0</td>\n",
       "      <td>0</td>\n",
       "      <td>8.0500</td>\n",
       "      <td>S</td>\n",
       "      <td>Southampton</td>\n",
       "      <td>1</td>\n",
       "      <td>1</td>\n",
       "      <td>0</td>\n",
       "      <td>1</td>\n",
       "    </tr>\n",
       "  </tbody>\n",
       "</table>\n",
       "</div>"
      ],
      "text/plain": [
       "   survived  pclass     sex   age  sibsp  parch     fare embarked  \\\n",
       "0         0       3    male  22.0      1      0   7.2500        S   \n",
       "1         1       1  female  38.0      1      0  71.2833        C   \n",
       "2         1       3  female  26.0      0      0   7.9250        S   \n",
       "3         1       1  female  35.0      1      0  53.1000        S   \n",
       "4         0       3    male  35.0      0      0   8.0500        S   \n",
       "\n",
       "   embark_town  alone  sex_male  embark_town_Queenstown  \\\n",
       "0  Southampton      0         1                       0   \n",
       "1    Cherbourg      0         0                       0   \n",
       "2  Southampton      1         0                       0   \n",
       "3  Southampton      0         0                       0   \n",
       "4  Southampton      1         1                       0   \n",
       "\n",
       "   embark_town_Southampton  \n",
       "0                        1  \n",
       "1                        0  \n",
       "2                        1  \n",
       "3                        1  \n",
       "4                        1  "
      ]
     },
     "execution_count": 3,
     "metadata": {},
     "output_type": "execute_result"
    }
   ],
   "source": [
    "df = prepare.prep_titanic(df)\n",
    "df.head()"
   ]
  },
  {
   "cell_type": "code",
   "execution_count": 4,
   "id": "3aef0c0c",
   "metadata": {},
   "outputs": [
    {
     "data": {
      "text/plain": [
       "0    549\n",
       "1    342\n",
       "Name: survived, dtype: int64"
      ]
     },
     "execution_count": 4,
     "metadata": {},
     "output_type": "execute_result"
    }
   ],
   "source": [
    "df.survived.value_counts()"
   ]
  },
  {
   "cell_type": "code",
   "execution_count": 5,
   "id": "949fcac0",
   "metadata": {},
   "outputs": [],
   "source": [
    "df['bl_survival_pred'] = 0"
   ]
  },
  {
   "cell_type": "code",
   "execution_count": 6,
   "id": "138bac0e",
   "metadata": {},
   "outputs": [],
   "source": [
    "train_val, test = train_test_split(\n",
    "    df,\n",
    "    train_size = 0.8,\n",
    "    random_state = 1349,\n",
    "    stratify = df['survived']\n",
    ")\n",
    "\n",
    "train, validate = train_test_split(\n",
    "    train_val,\n",
    "    train_size = 0.7,\n",
    "    random_state = 1349,\n",
    "    stratify = train_val['survived']\n",
    ")"
   ]
  },
  {
   "cell_type": "code",
   "execution_count": 7,
   "id": "c9084e2f",
   "metadata": {},
   "outputs": [
    {
     "data": {
      "text/plain": [
       "((498, 14), (214, 14), (179, 14))"
      ]
     },
     "execution_count": 7,
     "metadata": {},
     "output_type": "execute_result"
    }
   ],
   "source": [
    "train.shape, validate.shape, test.shape"
   ]
  },
  {
   "cell_type": "code",
   "execution_count": 8,
   "id": "0128db14",
   "metadata": {},
   "outputs": [],
   "source": [
    "x_cols = train.columns.to_list()\n",
    "y_cols = 'survived'"
   ]
  },
  {
   "cell_type": "code",
   "execution_count": 9,
   "id": "414ebfba",
   "metadata": {},
   "outputs": [],
   "source": [
    "x_cols.remove('survived')\n",
    "x_cols.remove('bl_survival_pred')\n",
    "x_cols.remove('sex')\n",
    "x_cols.remove('embarked')\n",
    "x_cols.remove('embark_town')"
   ]
  },
  {
   "cell_type": "markdown",
   "id": "e2b71f09",
   "metadata": {},
   "source": [
    "##### Fit the Random Forest classifier to your training sample and transform (i.e. make predictions on the training sample) setting the random_state accordingly and setting min_samples_leaf = 1 and max_depth = 10."
   ]
  },
  {
   "cell_type": "code",
   "execution_count": 13,
   "id": "fe7db95d",
   "metadata": {},
   "outputs": [],
   "source": [
    "rf = RandomForestClassifier(min_samples_leaf=1,\n",
    "                            max_depth=10, \n",
    "                            random_state=123)"
   ]
  },
  {
   "cell_type": "code",
   "execution_count": 14,
   "id": "cf302872",
   "metadata": {},
   "outputs": [
    {
     "data": {
      "text/html": [
       "<style>#sk-container-id-1 {color: black;background-color: white;}#sk-container-id-1 pre{padding: 0;}#sk-container-id-1 div.sk-toggleable {background-color: white;}#sk-container-id-1 label.sk-toggleable__label {cursor: pointer;display: block;width: 100%;margin-bottom: 0;padding: 0.3em;box-sizing: border-box;text-align: center;}#sk-container-id-1 label.sk-toggleable__label-arrow:before {content: \"▸\";float: left;margin-right: 0.25em;color: #696969;}#sk-container-id-1 label.sk-toggleable__label-arrow:hover:before {color: black;}#sk-container-id-1 div.sk-estimator:hover label.sk-toggleable__label-arrow:before {color: black;}#sk-container-id-1 div.sk-toggleable__content {max-height: 0;max-width: 0;overflow: hidden;text-align: left;background-color: #f0f8ff;}#sk-container-id-1 div.sk-toggleable__content pre {margin: 0.2em;color: black;border-radius: 0.25em;background-color: #f0f8ff;}#sk-container-id-1 input.sk-toggleable__control:checked~div.sk-toggleable__content {max-height: 200px;max-width: 100%;overflow: auto;}#sk-container-id-1 input.sk-toggleable__control:checked~label.sk-toggleable__label-arrow:before {content: \"▾\";}#sk-container-id-1 div.sk-estimator input.sk-toggleable__control:checked~label.sk-toggleable__label {background-color: #d4ebff;}#sk-container-id-1 div.sk-label input.sk-toggleable__control:checked~label.sk-toggleable__label {background-color: #d4ebff;}#sk-container-id-1 input.sk-hidden--visually {border: 0;clip: rect(1px 1px 1px 1px);clip: rect(1px, 1px, 1px, 1px);height: 1px;margin: -1px;overflow: hidden;padding: 0;position: absolute;width: 1px;}#sk-container-id-1 div.sk-estimator {font-family: monospace;background-color: #f0f8ff;border: 1px dotted black;border-radius: 0.25em;box-sizing: border-box;margin-bottom: 0.5em;}#sk-container-id-1 div.sk-estimator:hover {background-color: #d4ebff;}#sk-container-id-1 div.sk-parallel-item::after {content: \"\";width: 100%;border-bottom: 1px solid gray;flex-grow: 1;}#sk-container-id-1 div.sk-label:hover label.sk-toggleable__label {background-color: #d4ebff;}#sk-container-id-1 div.sk-serial::before {content: \"\";position: absolute;border-left: 1px solid gray;box-sizing: border-box;top: 0;bottom: 0;left: 50%;z-index: 0;}#sk-container-id-1 div.sk-serial {display: flex;flex-direction: column;align-items: center;background-color: white;padding-right: 0.2em;padding-left: 0.2em;position: relative;}#sk-container-id-1 div.sk-item {position: relative;z-index: 1;}#sk-container-id-1 div.sk-parallel {display: flex;align-items: stretch;justify-content: center;background-color: white;position: relative;}#sk-container-id-1 div.sk-item::before, #sk-container-id-1 div.sk-parallel-item::before {content: \"\";position: absolute;border-left: 1px solid gray;box-sizing: border-box;top: 0;bottom: 0;left: 50%;z-index: -1;}#sk-container-id-1 div.sk-parallel-item {display: flex;flex-direction: column;z-index: 1;position: relative;background-color: white;}#sk-container-id-1 div.sk-parallel-item:first-child::after {align-self: flex-end;width: 50%;}#sk-container-id-1 div.sk-parallel-item:last-child::after {align-self: flex-start;width: 50%;}#sk-container-id-1 div.sk-parallel-item:only-child::after {width: 0;}#sk-container-id-1 div.sk-dashed-wrapped {border: 1px dashed gray;margin: 0 0.4em 0.5em 0.4em;box-sizing: border-box;padding-bottom: 0.4em;background-color: white;}#sk-container-id-1 div.sk-label label {font-family: monospace;font-weight: bold;display: inline-block;line-height: 1.2em;}#sk-container-id-1 div.sk-label-container {text-align: center;}#sk-container-id-1 div.sk-container {/* jupyter's `normalize.less` sets `[hidden] { display: none; }` but bootstrap.min.css set `[hidden] { display: none !important; }` so we also need the `!important` here to be able to override the default hidden behavior on the sphinx rendered scikit-learn.org. See: https://github.com/scikit-learn/scikit-learn/issues/21755 */display: inline-block !important;position: relative;}#sk-container-id-1 div.sk-text-repr-fallback {display: none;}</style><div id=\"sk-container-id-1\" class=\"sk-top-container\"><div class=\"sk-text-repr-fallback\"><pre>RandomForestClassifier(max_depth=10, random_state=123)</pre><b>In a Jupyter environment, please rerun this cell to show the HTML representation or trust the notebook. <br />On GitHub, the HTML representation is unable to render, please try loading this page with nbviewer.org.</b></div><div class=\"sk-container\" hidden><div class=\"sk-item\"><div class=\"sk-estimator sk-toggleable\"><input class=\"sk-toggleable__control sk-hidden--visually\" id=\"sk-estimator-id-1\" type=\"checkbox\" checked><label for=\"sk-estimator-id-1\" class=\"sk-toggleable__label sk-toggleable__label-arrow\">RandomForestClassifier</label><div class=\"sk-toggleable__content\"><pre>RandomForestClassifier(max_depth=10, random_state=123)</pre></div></div></div></div></div>"
      ],
      "text/plain": [
       "RandomForestClassifier(max_depth=10, random_state=123)"
      ]
     },
     "execution_count": 14,
     "metadata": {},
     "output_type": "execute_result"
    }
   ],
   "source": [
    "rf.fit(train[x_cols], train[y_cols])"
   ]
  },
  {
   "cell_type": "code",
   "execution_count": 16,
   "id": "9dc2ec4f",
   "metadata": {},
   "outputs": [],
   "source": [
    "y_pred = rf.predict(train[x_cols])"
   ]
  },
  {
   "cell_type": "markdown",
   "id": "5eccd854",
   "metadata": {},
   "source": [
    "##### Evaluate your results using the model score, confusion matrix, and classification report."
   ]
  },
  {
   "cell_type": "code",
   "execution_count": 17,
   "id": "54339607",
   "metadata": {},
   "outputs": [
    {
     "name": "stdout",
     "output_type": "stream",
     "text": [
      "Accuracy of random forest classifier on training set: 0.96\n"
     ]
    }
   ],
   "source": [
    "print('Accuracy of random forest classifier on training set: {:.2f}'\n",
    "     .format(rf.score(train[x_cols], train[y_cols])))"
   ]
  },
  {
   "cell_type": "code",
   "execution_count": 24,
   "id": "17ea039d",
   "metadata": {},
   "outputs": [
    {
     "data": {
      "text/plain": [
       "array([[304,   3],\n",
       "       [ 17, 174]])"
      ]
     },
     "execution_count": 24,
     "metadata": {},
     "output_type": "execute_result"
    }
   ],
   "source": [
    "cm = confusion_matrix(train[y_cols], y_pred)\n",
    "cm"
   ]
  },
  {
   "cell_type": "code",
   "execution_count": 19,
   "id": "c2ebd516",
   "metadata": {},
   "outputs": [
    {
     "name": "stdout",
     "output_type": "stream",
     "text": [
      "              precision    recall  f1-score   support\n",
      "\n",
      "           0       0.95      0.99      0.97       307\n",
      "           1       0.98      0.91      0.95       191\n",
      "\n",
      "    accuracy                           0.96       498\n",
      "   macro avg       0.97      0.95      0.96       498\n",
      "weighted avg       0.96      0.96      0.96       498\n",
      "\n"
     ]
    }
   ],
   "source": [
    "print(classification_report(train[y_cols], y_pred))"
   ]
  },
  {
   "cell_type": "markdown",
   "id": "4d6cee4e",
   "metadata": {},
   "source": [
    "##### Print and clearly label the following: Accuracy, true positive rate, false positive rate, true negative rate, false negative rate, precision, recall, f1-score, and support."
   ]
  },
  {
   "cell_type": "code",
   "execution_count": 23,
   "id": "9d317655",
   "metadata": {},
   "outputs": [
    {
     "name": "stdout",
     "output_type": "stream",
     "text": [
      " The accuracy score is 0.9598393574297188\n"
     ]
    }
   ],
   "source": [
    "print(f' The accuracy score is {sklearn.metrics.accuracy_score(train[y_cols], y_pred)}')"
   ]
  },
  {
   "cell_type": "code",
   "execution_count": 25,
   "id": "c7be9e62",
   "metadata": {},
   "outputs": [],
   "source": [
    "TP = cm[0][0]\n",
    "FN = cm[0][1]\n",
    "FP = cm[1][0]\n",
    "TN = cm[1][1]"
   ]
  },
  {
   "cell_type": "code",
   "execution_count": 26,
   "id": "df1b6865",
   "metadata": {},
   "outputs": [
    {
     "name": "stdout",
     "output_type": "stream",
     "text": [
      "The TP rate is 304\n",
      "The FP rate is 17\n",
      "The TN rate is 174\n",
      "The FN rate is 3\n"
     ]
    }
   ],
   "source": [
    "print(f'The TP rate is {TP}')\n",
    "print(f'The FP rate is {FP}') \n",
    "print(f'The TN rate is {TN}')\n",
    "print(f'The FN rate is {FN}')"
   ]
  },
  {
   "cell_type": "code",
   "execution_count": 28,
   "id": "484aeb26",
   "metadata": {},
   "outputs": [],
   "source": [
    "prec, recall, fscore, support = sklearn.metrics.precision_recall_fscore_support(train[y_cols], y_pred, average='binary')"
   ]
  },
  {
   "cell_type": "code",
   "execution_count": 29,
   "id": "113c5a03",
   "metadata": {},
   "outputs": [
    {
     "name": "stdout",
     "output_type": "stream",
     "text": [
      "The precision score is 0.9830508474576272\n",
      "The recall score is 0.9109947643979057\n",
      "The fscore is 0.9456521739130435\n",
      "The support is None\n"
     ]
    }
   ],
   "source": [
    "print(f'The precision score is {prec}')\n",
    "print(f'The recall score is {recall}') \n",
    "print(f'The fscore is {fscore}')\n",
    "print(f'The support is {support}')"
   ]
  },
  {
   "cell_type": "markdown",
   "id": "c3328271",
   "metadata": {},
   "source": [
    "##### Run through steps increasing your min_samples_leaf and decreasing your max_depth."
   ]
  },
  {
   "cell_type": "code",
   "execution_count": 30,
   "id": "6d1f3ac2",
   "metadata": {},
   "outputs": [],
   "source": [
    "rf2 = RandomForestClassifier(min_samples_leaf=4,\n",
    "                            max_depth=6, \n",
    "                            random_state=123)"
   ]
  },
  {
   "cell_type": "code",
   "execution_count": 31,
   "id": "368b678b",
   "metadata": {},
   "outputs": [
    {
     "data": {
      "text/html": [
       "<style>#sk-container-id-2 {color: black;background-color: white;}#sk-container-id-2 pre{padding: 0;}#sk-container-id-2 div.sk-toggleable {background-color: white;}#sk-container-id-2 label.sk-toggleable__label {cursor: pointer;display: block;width: 100%;margin-bottom: 0;padding: 0.3em;box-sizing: border-box;text-align: center;}#sk-container-id-2 label.sk-toggleable__label-arrow:before {content: \"▸\";float: left;margin-right: 0.25em;color: #696969;}#sk-container-id-2 label.sk-toggleable__label-arrow:hover:before {color: black;}#sk-container-id-2 div.sk-estimator:hover label.sk-toggleable__label-arrow:before {color: black;}#sk-container-id-2 div.sk-toggleable__content {max-height: 0;max-width: 0;overflow: hidden;text-align: left;background-color: #f0f8ff;}#sk-container-id-2 div.sk-toggleable__content pre {margin: 0.2em;color: black;border-radius: 0.25em;background-color: #f0f8ff;}#sk-container-id-2 input.sk-toggleable__control:checked~div.sk-toggleable__content {max-height: 200px;max-width: 100%;overflow: auto;}#sk-container-id-2 input.sk-toggleable__control:checked~label.sk-toggleable__label-arrow:before {content: \"▾\";}#sk-container-id-2 div.sk-estimator input.sk-toggleable__control:checked~label.sk-toggleable__label {background-color: #d4ebff;}#sk-container-id-2 div.sk-label input.sk-toggleable__control:checked~label.sk-toggleable__label {background-color: #d4ebff;}#sk-container-id-2 input.sk-hidden--visually {border: 0;clip: rect(1px 1px 1px 1px);clip: rect(1px, 1px, 1px, 1px);height: 1px;margin: -1px;overflow: hidden;padding: 0;position: absolute;width: 1px;}#sk-container-id-2 div.sk-estimator {font-family: monospace;background-color: #f0f8ff;border: 1px dotted black;border-radius: 0.25em;box-sizing: border-box;margin-bottom: 0.5em;}#sk-container-id-2 div.sk-estimator:hover {background-color: #d4ebff;}#sk-container-id-2 div.sk-parallel-item::after {content: \"\";width: 100%;border-bottom: 1px solid gray;flex-grow: 1;}#sk-container-id-2 div.sk-label:hover label.sk-toggleable__label {background-color: #d4ebff;}#sk-container-id-2 div.sk-serial::before {content: \"\";position: absolute;border-left: 1px solid gray;box-sizing: border-box;top: 0;bottom: 0;left: 50%;z-index: 0;}#sk-container-id-2 div.sk-serial {display: flex;flex-direction: column;align-items: center;background-color: white;padding-right: 0.2em;padding-left: 0.2em;position: relative;}#sk-container-id-2 div.sk-item {position: relative;z-index: 1;}#sk-container-id-2 div.sk-parallel {display: flex;align-items: stretch;justify-content: center;background-color: white;position: relative;}#sk-container-id-2 div.sk-item::before, #sk-container-id-2 div.sk-parallel-item::before {content: \"\";position: absolute;border-left: 1px solid gray;box-sizing: border-box;top: 0;bottom: 0;left: 50%;z-index: -1;}#sk-container-id-2 div.sk-parallel-item {display: flex;flex-direction: column;z-index: 1;position: relative;background-color: white;}#sk-container-id-2 div.sk-parallel-item:first-child::after {align-self: flex-end;width: 50%;}#sk-container-id-2 div.sk-parallel-item:last-child::after {align-self: flex-start;width: 50%;}#sk-container-id-2 div.sk-parallel-item:only-child::after {width: 0;}#sk-container-id-2 div.sk-dashed-wrapped {border: 1px dashed gray;margin: 0 0.4em 0.5em 0.4em;box-sizing: border-box;padding-bottom: 0.4em;background-color: white;}#sk-container-id-2 div.sk-label label {font-family: monospace;font-weight: bold;display: inline-block;line-height: 1.2em;}#sk-container-id-2 div.sk-label-container {text-align: center;}#sk-container-id-2 div.sk-container {/* jupyter's `normalize.less` sets `[hidden] { display: none; }` but bootstrap.min.css set `[hidden] { display: none !important; }` so we also need the `!important` here to be able to override the default hidden behavior on the sphinx rendered scikit-learn.org. See: https://github.com/scikit-learn/scikit-learn/issues/21755 */display: inline-block !important;position: relative;}#sk-container-id-2 div.sk-text-repr-fallback {display: none;}</style><div id=\"sk-container-id-2\" class=\"sk-top-container\"><div class=\"sk-text-repr-fallback\"><pre>RandomForestClassifier(max_depth=6, min_samples_leaf=4, random_state=123)</pre><b>In a Jupyter environment, please rerun this cell to show the HTML representation or trust the notebook. <br />On GitHub, the HTML representation is unable to render, please try loading this page with nbviewer.org.</b></div><div class=\"sk-container\" hidden><div class=\"sk-item\"><div class=\"sk-estimator sk-toggleable\"><input class=\"sk-toggleable__control sk-hidden--visually\" id=\"sk-estimator-id-2\" type=\"checkbox\" checked><label for=\"sk-estimator-id-2\" class=\"sk-toggleable__label sk-toggleable__label-arrow\">RandomForestClassifier</label><div class=\"sk-toggleable__content\"><pre>RandomForestClassifier(max_depth=6, min_samples_leaf=4, random_state=123)</pre></div></div></div></div></div>"
      ],
      "text/plain": [
       "RandomForestClassifier(max_depth=6, min_samples_leaf=4, random_state=123)"
      ]
     },
     "execution_count": 31,
     "metadata": {},
     "output_type": "execute_result"
    }
   ],
   "source": [
    "rf2.fit(train[x_cols], train[y_cols])"
   ]
  },
  {
   "cell_type": "code",
   "execution_count": 32,
   "id": "f3dd9583",
   "metadata": {},
   "outputs": [],
   "source": [
    "y_pred2 = rf2.predict(train[x_cols])"
   ]
  },
  {
   "cell_type": "code",
   "execution_count": 34,
   "id": "4cb7ac52",
   "metadata": {},
   "outputs": [
    {
     "name": "stdout",
     "output_type": "stream",
     "text": [
      "Accuracy of model 2 on training set: 0.87\n"
     ]
    }
   ],
   "source": [
    "print('Accuracy of model 2 on training set: {:.2f}'\n",
    "     .format(rf2.score(train[x_cols], train[y_cols])))"
   ]
  },
  {
   "cell_type": "code",
   "execution_count": 35,
   "id": "78077c44",
   "metadata": {},
   "outputs": [
    {
     "data": {
      "text/plain": [
       "array([[291,  16],\n",
       "       [ 47, 144]])"
      ]
     },
     "execution_count": 35,
     "metadata": {},
     "output_type": "execute_result"
    }
   ],
   "source": [
    "cm2 = confusion_matrix(train[y_cols], y_pred2)\n",
    "cm2"
   ]
  },
  {
   "cell_type": "code",
   "execution_count": 36,
   "id": "b233b322",
   "metadata": {},
   "outputs": [
    {
     "name": "stdout",
     "output_type": "stream",
     "text": [
      "              precision    recall  f1-score   support\n",
      "\n",
      "           0       0.86      0.95      0.90       307\n",
      "           1       0.90      0.75      0.82       191\n",
      "\n",
      "    accuracy                           0.87       498\n",
      "   macro avg       0.88      0.85      0.86       498\n",
      "weighted avg       0.88      0.87      0.87       498\n",
      "\n"
     ]
    }
   ],
   "source": [
    "print(classification_report(train[y_cols], y_pred2))"
   ]
  },
  {
   "cell_type": "code",
   "execution_count": 37,
   "id": "b90c70c4",
   "metadata": {},
   "outputs": [
    {
     "name": "stdout",
     "output_type": "stream",
     "text": [
      " The accuracy score is 0.8734939759036144\n"
     ]
    }
   ],
   "source": [
    "print(f' The accuracy score is {sklearn.metrics.accuracy_score(train[y_cols], y_pred2)}')"
   ]
  },
  {
   "cell_type": "code",
   "execution_count": 38,
   "id": "f9e1da56",
   "metadata": {},
   "outputs": [],
   "source": [
    "TP2 = cm2[0][0]\n",
    "FN2 = cm2[0][1]\n",
    "FP2 = cm2[1][0]\n",
    "TN2 = cm2[1][1]"
   ]
  },
  {
   "cell_type": "code",
   "execution_count": 39,
   "id": "9587a121",
   "metadata": {},
   "outputs": [
    {
     "name": "stdout",
     "output_type": "stream",
     "text": [
      "The TP rate of model 2 is 291\n",
      "The FP rate of model 2 is 47\n",
      "The TN rate of model 2 is 144\n",
      "The FN rate of model 2 is 16\n"
     ]
    }
   ],
   "source": [
    "print(f'The TP rate of model 2 is {TP2}')\n",
    "print(f'The FP rate of model 2 is {FP2}') \n",
    "print(f'The TN rate of model 2 is {TN2}')\n",
    "print(f'The FN rate of model 2 is {FN2}')"
   ]
  },
  {
   "cell_type": "code",
   "execution_count": 40,
   "id": "b5fb25fc",
   "metadata": {},
   "outputs": [],
   "source": [
    "prec2, recall2, fscore2, support2 = sklearn.metrics.precision_recall_fscore_support(train[y_cols], y_pred2, average='binary')"
   ]
  },
  {
   "cell_type": "code",
   "execution_count": 41,
   "id": "556d7f79",
   "metadata": {},
   "outputs": [
    {
     "name": "stdout",
     "output_type": "stream",
     "text": [
      "The precision score of model 2 is 0.9\n",
      "The recall score of model 2 is 0.7539267015706806\n",
      "The fscore of model 2 is 0.8205128205128205\n",
      "The support of model 2 is None\n"
     ]
    }
   ],
   "source": [
    "print(f'The precision score of model 2 is {prec2}')\n",
    "print(f'The recall score of model 2 is {recall2}') \n",
    "print(f'The fscore of model 2 is {fscore2}')\n",
    "print(f'The support of model 2 is {support2}')"
   ]
  },
  {
   "cell_type": "markdown",
   "id": "d7c2ba93",
   "metadata": {},
   "source": [
    "##### What are the differences in the evaluation metrics? Which performs better on your in-sample data? Why?"
   ]
  },
  {
   "cell_type": "markdown",
   "id": "f90c6489",
   "metadata": {},
   "source": [
    "Model 1 performed much better accross all evaluation metrics. Model 1 has a max depth of 10 compared to a max depth of 6 on model 2. Model 1 performed better because it is likey overfitting on the train set. We will confirm this in the vailation phase"
   ]
  },
  {
   "cell_type": "markdown",
   "id": "4e025ddc",
   "metadata": {},
   "source": [
    "##### After making a few models, which one has the best performance (or closest metrics) on both train and validate?"
   ]
  },
  {
   "cell_type": "code",
   "execution_count": 52,
   "id": "1677229d",
   "metadata": {},
   "outputs": [
    {
     "name": "stdout",
     "output_type": "stream",
     "text": [
      "Accuracy of random forest classifier model 1 on validate set: 0.7897\n"
     ]
    }
   ],
   "source": [
    " print('Accuracy of random forest classifier model 1 on validate set: {:.4f}'\n",
    "     .format(rf.score(validate[x_cols], validate[y_cols])))"
   ]
  },
  {
   "cell_type": "code",
   "execution_count": 53,
   "id": "d6b8ae24",
   "metadata": {},
   "outputs": [
    {
     "name": "stdout",
     "output_type": "stream",
     "text": [
      "Accuracy of random forest classifier model 2 on validate set: 0.7850\n"
     ]
    }
   ],
   "source": [
    " print('Accuracy of random forest classifier model 2 on validate set: {:.4f}'\n",
    "     .format(rf2.score(validate[x_cols], validate[y_cols])))"
   ]
  },
  {
   "cell_type": "markdown",
   "id": "75f40eaa",
   "metadata": {},
   "source": [
    "##### model 1 vs model 2 validate set accuracy\n",
    "\n",
    "model 1 train accuracy    - .96\n",
    "model 1 validate accuracy - .78\n",
    "\n",
    "\n",
    "model 2 train accuracy    - .87\n",
    "model 2 validate accuracy - .78\n",
    "\n",
    "\n",
    "Model 2 has accuracy scores with a much lower delta between train and validate. This is the best performing model."
   ]
  }
 ],
 "metadata": {
  "kernelspec": {
   "display_name": "Python 3 (ipykernel)",
   "language": "python",
   "name": "python3"
  },
  "language_info": {
   "codemirror_mode": {
    "name": "ipython",
    "version": 3
   },
   "file_extension": ".py",
   "mimetype": "text/x-python",
   "name": "python",
   "nbconvert_exporter": "python",
   "pygments_lexer": "ipython3",
   "version": "3.9.13"
  }
 },
 "nbformat": 4,
 "nbformat_minor": 5
}
