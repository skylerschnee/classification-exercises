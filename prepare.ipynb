{
 "cells": [
  {
   "cell_type": "code",
   "execution_count": 2,
   "id": "6c22b8f2",
   "metadata": {},
   "outputs": [],
   "source": [
    "import pandas as pd\n",
    "import numpy as np\n",
    "import matplotlib.pyplot as plt\n",
    "import os"
   ]
  },
  {
   "cell_type": "code",
   "execution_count": 5,
   "id": "ba7ded7e",
   "metadata": {},
   "outputs": [],
   "source": [
    "def prep_iris(df):\n",
    "    '''\n",
    "    prep_iris will take in a single pandas dataframe and will\n",
    "    proceed to drop redundant columns and non-usefull info in \n",
    "    addition to encoding categorical variables for iris_data specifically\n",
    "    '''\n",
    "    df = df.drop(columns = ['measurement_id', 'species_id'])\n",
    "    df = df.rename(columns= {'species_name':'species'})\n",
    "    df = pd.concat([df,pd.get_dummies(df['species'], drop_first = True)], axis = 1)\n",
    "    return df\n",
    "\n",
    "def prep_titanic(df):\n",
    "    '''\n",
    "    prep titanic will take in a single pandas dataframe and will\n",
    "    proceed to drop redundant columns and non-usefull info in \n",
    "    addition to addressing null values and encoding categorical variables\n",
    "    for titanic_data specifically\n",
    "    '''\n",
    "    #drop redundancies\n",
    "    df = df.drop(columns=['class', 'deck', 'passenger_id'])\n",
    "    \n",
    "    #impute avg age and most common embark_town:\n",
    "    df['age'] = df['age'].fillna(df.age.mean())\n",
    "    df['embark_town'] = df['embark_town'].fillna('Southampton')\n",
    "    \n",
    "    # encode categorical values\n",
    "    df = pd.concat([df, pd.get_dummies(df[['sex', 'embark_town']], drop_first = True)], axis = 1)\n",
    "    \n",
    "    return df\n",
    "\n",
    "def prep_telco(df):\n",
    "    '''\n",
    "    prep_telco will take in a single pandas dataframe and will\n",
    "    proceed to drop redundant columns and non-usefull info in \n",
    "    addition to encoding categorical variables for telco_data specifically\n",
    "    '''\n",
    "    #drop redundancies\n",
    "    df = df.drop(columns=['payment_type_id', 'internet_service_type_id', 'contract_type_id', 'customer_id'])\n",
    "    \n",
    "    # encode categorical values\n",
    "    df = pd.concat([df, pd.get_dummies(df[['payment_type', 'internet_service_type', 'contract_type']], drop_first = True)], axis = 1)\n",
    "    \n",
    "    return df\n",
    "\n",
    "\n"
   ]
  },
  {
   "cell_type": "code",
   "execution_count": null,
   "id": "7b16675b",
   "metadata": {},
   "outputs": [],
   "source": []
  }
 ],
 "metadata": {
  "kernelspec": {
   "display_name": "Python 3 (ipykernel)",
   "language": "python",
   "name": "python3"
  },
  "language_info": {
   "codemirror_mode": {
    "name": "ipython",
    "version": 3
   },
   "file_extension": ".py",
   "mimetype": "text/x-python",
   "name": "python",
   "nbconvert_exporter": "python",
   "pygments_lexer": "ipython3",
   "version": "3.9.13"
  }
 },
 "nbformat": 4,
 "nbformat_minor": 5
}
