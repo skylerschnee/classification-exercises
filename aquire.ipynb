{
 "cells": [
  {
   "cell_type": "code",
   "execution_count": 17,
   "id": "18f4d60d",
   "metadata": {},
   "outputs": [],
   "source": [
    "import pandas as pd\n",
    "import env\n",
    "import os"
   ]
  },
  {
   "cell_type": "code",
   "execution_count": 19,
   "id": "f5e3bbaa",
   "metadata": {},
   "outputs": [],
   "source": [
    "def get_connection(schema, user=env.user, host=env.host, password=env.password):\n",
    "    return f'mysql+pymysql://{user}:{password}@{host}/{schema}'\n",
    "\n",
    "def get_titanic_data():    \n",
    "    if os.path.exists('titanic.csv'):\n",
    "        df = pd.read_csv('titanic.csv', index_col = 0)\n",
    "    else:\n",
    "        query = 'SELECT * FROM passengers'\n",
    "        connection = get_connection('titanic_db')\n",
    "        df = pd.read_sql(query, connection)\n",
    "        df.to_csv('titanic.csv')\n",
    "    return df\n",
    "\n",
    "\n",
    "def get_iris_data():\n",
    "    if os.path.exists('iris_db.csv'):\n",
    "        df = pd.read_csv('iris_db.csv', index_col = 0)\n",
    "    else:\n",
    "        query = '''\n",
    "        SELECT measurement_id, \n",
    "        sepal_length, \n",
    "        sepal_width, \n",
    "        petal_length,\n",
    "        petal_width,\n",
    "        species_name, \n",
    "        species_id\n",
    "        FROM measurements \n",
    "        LEFT JOIN species \n",
    "        USING (species_id);\n",
    "        '''\n",
    "        connection = get_connection('iris_db')\n",
    "        df = pd.read_sql(query, connection)\n",
    "        df.to_csv('iris_db.csv')\n",
    "    return df\n",
    "\n",
    "\n",
    "def get_telco_data():    \n",
    "    if os.path.exists('telco_churn.csv'):\n",
    "        df = pd.read_csv('telco_churn.csv', index_col = 0)\n",
    "    else:\n",
    "        query = '''\n",
    "        SELECT * FROM customers \n",
    "        LEFT JOIN contract_types \n",
    "        USING (contract_type_id) \n",
    "        LEFT JOIN internet_service_types \n",
    "        USING (internet_service_type_id)\n",
    "        LEFT JOIN payment_types\n",
    "        USING (payment_type_id);\n",
    "        '''\n",
    "        connection = get_connection('telco_churn')\n",
    "        df = pd.read_sql(query, connection)\n",
    "        df.to_csv('telco_churn.csv')\n",
    "    return df"
   ]
  }
 ],
 "metadata": {
  "kernelspec": {
   "display_name": "Python 3 (ipykernel)",
   "language": "python",
   "name": "python3"
  },
  "language_info": {
   "codemirror_mode": {
    "name": "ipython",
    "version": 3
   },
   "file_extension": ".py",
   "mimetype": "text/x-python",
   "name": "python",
   "nbconvert_exporter": "python",
   "pygments_lexer": "ipython3",
   "version": "3.9.13"
  }
 },
 "nbformat": 4,
 "nbformat_minor": 5
}
